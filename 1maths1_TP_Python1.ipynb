{
  "nbformat": 4,
  "nbformat_minor": 0,
  "metadata": {
    "colab": {
      "name": "1maths1_TP Python1.ipynb",
      "provenance": [],
      "collapsed_sections": []
    },
    "kernelspec": {
      "name": "python3",
      "display_name": "Python 3"
    }
  },
  "cells": [
    {
      "cell_type": "markdown",
      "metadata": {
        "id": "uuReKrTBD_c8"
      },
      "source": [
        "# **Reprise d'étude sur la programmation en Python**\n",
        "\n",
        "\n",
        "\n",
        "\n",
        "\n"
      ]
    },
    {
      "cell_type": "markdown",
      "metadata": {
        "id": "1fwZ5QWaGWrs"
      },
      "source": [
        "# **Résolutions d'équations**\n",
        "**But** : Écrire un programme en Python qui calcule les solutions éventuelles d'une équation\n",
        "Dans les parties A et B, les nombres $a, b, c$ sont des réels, avec $a$ non nul.\n"
      ]
    },
    {
      "cell_type": "markdown",
      "metadata": {
        "id": "E7C0CqFLHFFF"
      },
      "source": [
        "# **Partie A. Calculer un discriminant**\n",
        "1. Écrivons une fonction Python `delta (a,b,c)` qui calcule le discriminant de la \n",
        "fonction $x\\mapsto ax^2+bx+c$\n"
      ]
    },
    {
      "cell_type": "code",
      "metadata": {
        "id": "7_tyVhILDcgX"
      },
      "source": [
        "def delta(a,b,c):\n",
        "\n",
        "  d=b**2-4*a*c \n",
        "\n",
        "  return d \n"
      ],
      "execution_count": null,
      "outputs": []
    },
    {
      "cell_type": "markdown",
      "metadata": {
        "id": "K3cyGeztdQ2V"
      },
      "source": [
        "voici un lien pour le script correspondant pour la calculatrice Numworks  \n",
        "\n",
        "[programme 1](https://workshop.numworks.com/python/stephane-broc/spe_1maths1_tp1)"
      ]
    },
    {
      "cell_type": "markdown",
      "metadata": {
        "id": "TEDTg_4eGVGH"
      },
      "source": [
        "aide : en Python, on calcule $x^n$ avec la saisie `x**n`"
      ]
    },
    {
      "cell_type": "markdown",
      "metadata": {
        "id": "izOuWDtRJLBx"
      },
      "source": [
        "2. Calculer le discriminant de la fonction $x\\mapsto 2x^2+5x-3$ à l'aide de la fonction précédente. Préciser les valeurs que doivent prendre les arguments $a, b,$ et $c$ pour appeler la fonction `delta(a,b,c)`.\n",
        "\n",
        "\n"
      ]
    },
    {
      "cell_type": "code",
      "metadata": {
        "id": "9zVdRGC_FSMn"
      },
      "source": [
        "delta(...,...,...)  # à vous de compléter les pointillés"
      ],
      "execution_count": null,
      "outputs": []
    },
    {
      "cell_type": "markdown",
      "metadata": {
        "id": "uo13z0H0KItd"
      },
      "source": [
        "# **Partie B. Résoudre une équation du second degré**\n",
        "1. La séquence d'instructions ci-dessous range des valeurs dans la liste `sol`dans un certain cas : lequel ? Que représentent alors les valeurs rangées dans cette liste ? \n",
        "\n"
      ]
    },
    {
      "cell_type": "markdown",
      "metadata": {
        "id": "71xM75MgR9w8"
      },
      "source": [
        "![Capture d’écran 2020-09-27 223843.jpg](data:image/jpeg;base64,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)"
      ]
    },
    {
      "cell_type": "markdown",
      "metadata": {
        "id": "tDC9k7lIGE0W"
      },
      "source": [
        "réponse : "
      ]
    },
    {
      "cell_type": "markdown",
      "metadata": {
        "id": "Rz978Jl6SyjO"
      },
      "source": [
        "Aide : En Python, calculer une racine carrée se fait à l'aide de la fonction `sqrt()`. Pour cela il faut, en début de programme, faire appel au module math par l'instruction `from math import*`.\n"
      ]
    },
    {
      "cell_type": "markdown",
      "metadata": {
        "id": "dKLMdIheTFaQ"
      },
      "source": [
        "2. À l'aide de la fonction `delta(a,b,c)` vue dans la **Partie A**, écrire une fonction `second_degre(a,b,c)` qui renvoie une liste composée des solutions éventuelles de l'équation $ax^2+bx+c=0$.\n",
        "Dans le cas où l'équation n'a pas de solution, la fonction renverra une liste vide `[]`."
      ]
    },
    {
      "cell_type": "code",
      "metadata": {
        "id": "ZoSY2KcdGQjB"
      },
      "source": [
        "from math import*\n",
        "\n",
        "def second_degre(a,b,c):\n",
        "\n",
        "  sol=[]\n",
        "\n",
        "  d=delta(a,b,c)\n",
        "\n",
        "  if d>0 : \n",
        "\n",
        "    x1=(-b-sqrt(d))/(2*a)\n",
        "\n",
        "    x2=(-b+sqrt(d))/(2*a)\n",
        "\n",
        "    sol=[x1,x2]\n",
        "\n",
        "    return sol\n",
        "\n",
        "  if d<0 :\n",
        "\n",
        "    return  sol\n",
        "\n",
        "  if d==0 :\n",
        "\n",
        "    x0=(-b)/(2*a)\n",
        "\n",
        "    sol=[x0]\n",
        "\n",
        "    return sol\n",
        "\n",
        "\n",
        "\n",
        "  "
      ],
      "execution_count": 6,
      "outputs": []
    },
    {
      "cell_type": "markdown",
      "metadata": {
        "id": "4nX4LGgmde1i"
      },
      "source": [
        "Script Numworks [programme 2](https://workshop.numworks.com/python/stephane-broc/spe_1maths1_tp1bis)"
      ]
    },
    {
      "cell_type": "markdown",
      "metadata": {
        "id": "5jM8OPy8UQBO"
      },
      "source": [
        "3. À l'aide des fonctions créées dans les **parties A** et **B**, résoudre les équations suivantes. *On arrondira si besoin au centième.*"
      ]
    },
    {
      "cell_type": "markdown",
      "metadata": {
        "id": "oIq6ogTiUthx"
      },
      "source": [
        "*   a)  $2x^2+5x-3=0 $\n",
        "*   b)  $2x^2+2x=-2$\n",
        "*   c)  $2x+x^2+1=0 $\n",
        "*   d)  $2x^2-5=0 $\n",
        "*   e)  $x^2+5x-6=3x-3 $\n",
        "*   f) $2x^2+5x+5=5x^2-3 $\n",
        "\n",
        "\n",
        "\n",
        "\n",
        "\n",
        "\n",
        "\n",
        "\n",
        "\n",
        "\n",
        "\n",
        " \n"
      ]
    },
    {
      "cell_type": "markdown",
      "metadata": {
        "id": "6hMR21SrGgoH"
      },
      "source": [
        "indication : identifier bien $a, b$ et $c$ "
      ]
    },
    {
      "cell_type": "code",
      "metadata": {
        "id": "IBYPYkyPGeDb"
      },
      "source": [
        ""
      ],
      "execution_count": null,
      "outputs": []
    },
    {
      "cell_type": "markdown",
      "metadata": {
        "id": "Brcs4xOnV9Vs"
      },
      "source": [
        "4. Que se passe-t-il si on exécute l'instruction `second_degre(0,1,1)` ? \n",
        "Expliquer le message renvoyé par Python. "
      ]
    },
    {
      "cell_type": "code",
      "metadata": {
        "id": "tCwaiN2tG1FY"
      },
      "source": [
        "second_degre(0,1,1)"
      ],
      "execution_count": null,
      "outputs": []
    },
    {
      "cell_type": "markdown",
      "metadata": {
        "id": "ktYxXU18IROD"
      },
      "source": [
        "explication du message : "
      ]
    }
  ]
}